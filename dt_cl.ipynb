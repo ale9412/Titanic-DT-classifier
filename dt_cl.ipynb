{
 "cells": [
  {
   "cell_type": "code",
   "execution_count": 2,
   "metadata": {},
   "outputs": [],
   "source": [
    "from sklearn.preprocessing import LabelEncoder\n",
    "from sklearn import tree\n",
    "from sklearn.model_selection import train_test_split\n",
    "import pandas as pd\n",
    "import numpy as np\n",
    "import matplotlib.pyplot as plt"
   ]
  },
  {
   "cell_type": "code",
   "execution_count": 1,
   "metadata": {},
   "outputs": [],
   "source": [
    "%matplotlib inline"
   ]
  },
  {
   "cell_type": "code",
   "execution_count": 3,
   "metadata": {},
   "outputs": [],
   "source": [
    "model = tree.DecisionTreeClassifier(criterion=\"entropy\", max_depth=2)"
   ]
  },
  {
   "cell_type": "code",
   "execution_count": 4,
   "metadata": {},
   "outputs": [
    {
     "data": {
      "text/html": [
       "<div>\n",
       "<style scoped>\n",
       "    .dataframe tbody tr th:only-of-type {\n",
       "        vertical-align: middle;\n",
       "    }\n",
       "\n",
       "    .dataframe tbody tr th {\n",
       "        vertical-align: top;\n",
       "    }\n",
       "\n",
       "    .dataframe thead th {\n",
       "        text-align: right;\n",
       "    }\n",
       "</style>\n",
       "<table border=\"1\" class=\"dataframe\">\n",
       "  <thead>\n",
       "    <tr style=\"text-align: right;\">\n",
       "      <th></th>\n",
       "      <th>Survived</th>\n",
       "      <th>Pclass</th>\n",
       "      <th>Sex</th>\n",
       "      <th>Age</th>\n",
       "      <th>Siblings/Spouses Aboard</th>\n",
       "      <th>Parents/Children Aboard</th>\n",
       "      <th>Fare</th>\n",
       "    </tr>\n",
       "  </thead>\n",
       "  <tbody>\n",
       "    <tr>\n",
       "      <th>0</th>\n",
       "      <td>0</td>\n",
       "      <td>3</td>\n",
       "      <td>male</td>\n",
       "      <td>22.0</td>\n",
       "      <td>1</td>\n",
       "      <td>0</td>\n",
       "      <td>7.2500</td>\n",
       "    </tr>\n",
       "    <tr>\n",
       "      <th>1</th>\n",
       "      <td>1</td>\n",
       "      <td>1</td>\n",
       "      <td>female</td>\n",
       "      <td>38.0</td>\n",
       "      <td>1</td>\n",
       "      <td>0</td>\n",
       "      <td>71.2833</td>\n",
       "    </tr>\n",
       "    <tr>\n",
       "      <th>2</th>\n",
       "      <td>1</td>\n",
       "      <td>3</td>\n",
       "      <td>female</td>\n",
       "      <td>26.0</td>\n",
       "      <td>0</td>\n",
       "      <td>0</td>\n",
       "      <td>7.9250</td>\n",
       "    </tr>\n",
       "    <tr>\n",
       "      <th>3</th>\n",
       "      <td>1</td>\n",
       "      <td>1</td>\n",
       "      <td>female</td>\n",
       "      <td>35.0</td>\n",
       "      <td>1</td>\n",
       "      <td>0</td>\n",
       "      <td>53.1000</td>\n",
       "    </tr>\n",
       "    <tr>\n",
       "      <th>4</th>\n",
       "      <td>0</td>\n",
       "      <td>3</td>\n",
       "      <td>male</td>\n",
       "      <td>35.0</td>\n",
       "      <td>0</td>\n",
       "      <td>0</td>\n",
       "      <td>8.0500</td>\n",
       "    </tr>\n",
       "  </tbody>\n",
       "</table>\n",
       "</div>"
      ],
      "text/plain": [
       "   Survived  Pclass     Sex   Age  Siblings/Spouses Aboard  \\\n",
       "0         0       3    male  22.0                        1   \n",
       "1         1       1  female  38.0                        1   \n",
       "2         1       3  female  26.0                        0   \n",
       "3         1       1  female  35.0                        1   \n",
       "4         0       3    male  35.0                        0   \n",
       "\n",
       "   Parents/Children Aboard     Fare  \n",
       "0                        0   7.2500  \n",
       "1                        0  71.2833  \n",
       "2                        0   7.9250  \n",
       "3                        0  53.1000  \n",
       "4                        0   8.0500  "
      ]
     },
     "execution_count": 4,
     "metadata": {},
     "output_type": "execute_result"
    }
   ],
   "source": [
    "df = pd.read_csv(\"titanic.csv\")\n",
    "df = df.drop(\"Name\", axis=\"columns\")\n",
    "df.head()"
   ]
  },
  {
   "cell_type": "code",
   "execution_count": 5,
   "metadata": {},
   "outputs": [],
   "source": [
    "sex_encoder = LabelEncoder()"
   ]
  },
  {
   "cell_type": "code",
   "execution_count": 6,
   "metadata": {},
   "outputs": [],
   "source": [
    "df[\"Sex\"] = sex_encoder.fit_transform(df[\"Sex\"])"
   ]
  },
  {
   "cell_type": "code",
   "execution_count": 7,
   "metadata": {},
   "outputs": [],
   "source": [
    "target = df[\"Survived\"]\n",
    "data = df.drop(\"Survived\", axis=\"columns\")"
   ]
  },
  {
   "cell_type": "code",
   "execution_count": 17,
   "metadata": {},
   "outputs": [
    {
     "data": {
      "image/png": "[encoded data removed]",
      "text/plain": [
       "<Figure size 360x288 with 1 Axes>"
      ]
     },
     "metadata": {
      "needs_background": "light"
     },
     "output_type": "display_data"
    }
   ],
   "source": [
    "x = list(range(1,100))\n",
    "train = np.array([])\n",
    "test = np.array([])\n",
    "for i in x:\n",
    "    X_train, X_test, y_train, y_test = train_test_split(data, target, test_size=0.3, random_state=43)\n",
    "    model = tree.DecisionTreeClassifier(criterion=\"entropy\", max_depth=i)\n",
    "    model.fit(X_train, y_train)\n",
    "    \n",
    "    train = np.append(train, model.score(X_train, y_train))\n",
    "    test = np.append(test, model.score(X_test, y_test))\n",
    "\n",
    "    \n",
    "perform_df = pd.DataFrame({\"x\":x, \"train\":train, \"test\":test})   \n",
    "\n",
    "fig = plt.figure(figsize=(5,4))\n",
    "ax = fig.gca()\n",
    "ax.set_title(\"Model Perform on train and test data\")\n",
    "ax.set_ylabel(\"Score\")\n",
    "ax.set_xlabel(\"Max_Depth\")\n",
    "plt.plot(\"x\", \"train\", data=perform_df, color=\"green\")\n",
    "plt.plot(\"x\", \"test\", data=perform_df, color=\"red\")\n",
    "plt.legend()\n",
    "plt.show()"
   ]
  },
  {
   "cell_type": "code",
   "execution_count": 18,
   "metadata": {},
   "outputs": [
    {
     "data": {
      "text/plain": [
       "DecisionTreeClassifier(criterion='entropy', max_depth=4)"
      ]
     },
     "execution_count": 18,
     "metadata": {},
     "output_type": "execute_result"
    }
   ],
   "source": [
    "# Best score obtain for depth 4\n",
    "model = tree.DecisionTreeClassifier(criterion=\"entropy\", max_depth=4)\n",
    "model.fit(X_train, y_train)"
   ]
  },
  {
   "cell_type": "code",
   "execution_count": 9,
   "metadata": {
    "collapsed": true
   },
   "outputs": [
    {
     "data": {
      "text/plain": [
       "[(4, 0.8352059925093633),\n",
       " (5, 0.8314606741573034),\n",
       " (6, 0.8314606741573034),\n",
       " (3, 0.8239700374531835),\n",
       " (7, 0.8202247191011236),\n",
       " (1, 0.8089887640449438),\n",
       " (2, 0.8052434456928839),\n",
       " (16, 0.7790262172284644),\n",
       " (49, 0.7790262172284644),\n",
       " (99, 0.7790262172284644),\n",
       " (9, 0.7752808988764045),\n",
       " (19, 0.7715355805243446),\n",
       " (23, 0.7715355805243446),\n",
       " (34, 0.7715355805243446),\n",
       " (80, 0.7715355805243446),\n",
       " (33, 0.7677902621722846),\n",
       " (40, 0.7677902621722846),\n",
       " (47, 0.7677902621722846),\n",
       " (61, 0.7677902621722846),\n",
       " (62, 0.7677902621722846),\n",
       " (14, 0.7640449438202247),\n",
       " (17, 0.7640449438202247),\n",
       " (18, 0.7640449438202247),\n",
       " (26, 0.7640449438202247),\n",
       " (27, 0.7640449438202247),\n",
       " (53, 0.7640449438202247),\n",
       " (77, 0.7640449438202247),\n",
       " (82, 0.7640449438202247),\n",
       " (86, 0.7640449438202247),\n",
       " (87, 0.7640449438202247),\n",
       " (94, 0.7640449438202247),\n",
       " (97, 0.7640449438202247),\n",
       " (8, 0.7602996254681648),\n",
       " (12, 0.7602996254681648),\n",
       " (13, 0.7602996254681648),\n",
       " (15, 0.7602996254681648),\n",
       " (22, 0.7602996254681648),\n",
       " (24, 0.7602996254681648),\n",
       " (25, 0.7602996254681648),\n",
       " (28, 0.7602996254681648),\n",
       " (32, 0.7602996254681648),\n",
       " (36, 0.7602996254681648),\n",
       " (38, 0.7602996254681648),\n",
       " (41, 0.7602996254681648),\n",
       " (44, 0.7602996254681648),\n",
       " (51, 0.7602996254681648),\n",
       " (52, 0.7602996254681648),\n",
       " (55, 0.7602996254681648),\n",
       " (56, 0.7602996254681648),\n",
       " (72, 0.7602996254681648),\n",
       " (75, 0.7602996254681648),\n",
       " (83, 0.7602996254681648),\n",
       " (20, 0.7565543071161048),\n",
       " (31, 0.7565543071161048),\n",
       " (35, 0.7565543071161048),\n",
       " (37, 0.7565543071161048),\n",
       " (43, 0.7565543071161048),\n",
       " (54, 0.7565543071161048),\n",
       " (71, 0.7565543071161048),\n",
       " (79, 0.7565543071161048),\n",
       " (84, 0.7565543071161048),\n",
       " (85, 0.7565543071161048),\n",
       " (96, 0.7565543071161048),\n",
       " (10, 0.7528089887640449),\n",
       " (29, 0.7528089887640449),\n",
       " (30, 0.7528089887640449),\n",
       " (46, 0.7528089887640449),\n",
       " (50, 0.7528089887640449),\n",
       " (57, 0.7528089887640449),\n",
       " (59, 0.7528089887640449),\n",
       " (66, 0.7528089887640449),\n",
       " (67, 0.7528089887640449),\n",
       " (74, 0.7528089887640449),\n",
       " (76, 0.7528089887640449),\n",
       " (81, 0.7528089887640449),\n",
       " (92, 0.7528089887640449),\n",
       " (93, 0.7528089887640449),\n",
       " (98, 0.7528089887640449),\n",
       " (45, 0.7490636704119851),\n",
       " (48, 0.7490636704119851),\n",
       " (58, 0.7490636704119851),\n",
       " (63, 0.7490636704119851),\n",
       " (69, 0.7490636704119851),\n",
       " (73, 0.7490636704119851),\n",
       " (78, 0.7490636704119851),\n",
       " (88, 0.7490636704119851),\n",
       " (89, 0.7490636704119851),\n",
       " (91, 0.7490636704119851),\n",
       " (95, 0.7490636704119851),\n",
       " (21, 0.7453183520599251),\n",
       " (39, 0.7453183520599251),\n",
       " (60, 0.7453183520599251),\n",
       " (64, 0.7453183520599251),\n",
       " (65, 0.7453183520599251),\n",
       " (68, 0.7453183520599251),\n",
       " (42, 0.7415730337078652),\n",
       " (70, 0.7415730337078652),\n",
       " (90, 0.7415730337078652),\n",
       " (11, 0.7378277153558053)]"
      ]
     },
     "execution_count": 9,
     "metadata": {},
     "output_type": "execute_result"
    }
   ],
   "source": [
    "d = {k:v for k,v in zip(x,test)}\n",
    "sorted(d.items(), key=lambda i: i[1], reverse=True)"
   ]
  },
  {
   "cell_type": "code",
   "execution_count": 10,
   "metadata": {},
   "outputs": [
    {
     "data": {
      "text/html": [
       "<div>\n",
       "<style scoped>\n",
       "    .dataframe tbody tr th:only-of-type {\n",
       "        vertical-align: middle;\n",
       "    }\n",
       "\n",
       "    .dataframe tbody tr th {\n",
       "        vertical-align: top;\n",
       "    }\n",
       "\n",
       "    .dataframe thead th {\n",
       "        text-align: right;\n",
       "    }\n",
       "</style>\n",
       "<table border=\"1\" class=\"dataframe\">\n",
       "  <thead>\n",
       "    <tr style=\"text-align: right;\">\n",
       "      <th></th>\n",
       "      <th>Pclass</th>\n",
       "      <th>Sex</th>\n",
       "      <th>Age</th>\n",
       "      <th>Siblings/Spouses Aboard</th>\n",
       "      <th>Parents/Children Aboard</th>\n",
       "      <th>Fare</th>\n",
       "    </tr>\n",
       "  </thead>\n",
       "  <tbody>\n",
       "    <tr>\n",
       "      <th>0</th>\n",
       "      <td>3</td>\n",
       "      <td>1</td>\n",
       "      <td>22.0</td>\n",
       "      <td>1</td>\n",
       "      <td>0</td>\n",
       "      <td>7.2500</td>\n",
       "    </tr>\n",
       "    <tr>\n",
       "      <th>1</th>\n",
       "      <td>1</td>\n",
       "      <td>0</td>\n",
       "      <td>38.0</td>\n",
       "      <td>1</td>\n",
       "      <td>0</td>\n",
       "      <td>71.2833</td>\n",
       "    </tr>\n",
       "    <tr>\n",
       "      <th>2</th>\n",
       "      <td>3</td>\n",
       "      <td>0</td>\n",
       "      <td>26.0</td>\n",
       "      <td>0</td>\n",
       "      <td>0</td>\n",
       "      <td>7.9250</td>\n",
       "    </tr>\n",
       "    <tr>\n",
       "      <th>3</th>\n",
       "      <td>1</td>\n",
       "      <td>0</td>\n",
       "      <td>35.0</td>\n",
       "      <td>1</td>\n",
       "      <td>0</td>\n",
       "      <td>53.1000</td>\n",
       "    </tr>\n",
       "    <tr>\n",
       "      <th>4</th>\n",
       "      <td>3</td>\n",
       "      <td>1</td>\n",
       "      <td>35.0</td>\n",
       "      <td>0</td>\n",
       "      <td>0</td>\n",
       "      <td>8.0500</td>\n",
       "    </tr>\n",
       "  </tbody>\n",
       "</table>\n",
       "</div>"
      ],
      "text/plain": [
       "   Pclass  Sex   Age  Siblings/Spouses Aboard  Parents/Children Aboard  \\\n",
       "0       3    1  22.0                        1                        0   \n",
       "1       1    0  38.0                        1                        0   \n",
       "2       3    0  26.0                        0                        0   \n",
       "3       1    0  35.0                        1                        0   \n",
       "4       3    1  35.0                        0                        0   \n",
       "\n",
       "      Fare  \n",
       "0   7.2500  \n",
       "1  71.2833  \n",
       "2   7.9250  \n",
       "3  53.1000  \n",
       "4   8.0500  "
      ]
     },
     "execution_count": 10,
     "metadata": {},
     "output_type": "execute_result"
    }
   ],
   "source": [
    "data.head()"
   ]
  },
  {
   "cell_type": "code",
   "execution_count": 20,
   "metadata": {},
   "outputs": [
    {
     "data": {
      "text/plain": [
       "array([0], dtype=int64)"
      ]
     },
     "execution_count": 20,
     "metadata": {},
     "output_type": "execute_result"
    }
   ],
   "source": [
    "# Sample data to make a prediction\n",
    "s = np.array([3,1,25.0,0,1,7.25])\n",
    "# Reshape the data into a 2d array\n",
    "s = s.reshape(1, -1)\n",
    "\n",
    "model.predict(s)"
   ]
  }
 ],
 "metadata": {
  "kernelspec": {
   "display_name": "Python 3",
   "language": "python",
   "name": "python3"
  },
  "language_info": {
   "codemirror_mode": {
    "name": "ipython",
    "version": 3
   },
   "file_extension": ".py",
   "mimetype": "text/x-python",
   "name": "python",
   "nbconvert_exporter": "python",
   "pygments_lexer": "ipython3",
   "version": "3.8.3"
  }
 },
 "nbformat": 4,
 "nbformat_minor": 4
}
